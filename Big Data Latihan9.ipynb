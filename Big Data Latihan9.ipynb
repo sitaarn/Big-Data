{
 "cells": [
  {
   "cell_type": "code",
   "execution_count": 5,
   "id": "b331fcfd-3dc2-4ea3-a723-889bbfad20f1",
   "metadata": {},
   "outputs": [
    {
     "name": "stderr",
     "output_type": "stream",
     "text": [
      "25/10/29 10:34:10 WARN SparkSession: Using an existing Spark session; only runtime SQL configurations will take effect.\n"
     ]
    }
   ],
   "source": [
    "spark = (SparkSession.builder\n",
    "         .appName(\"Pertemuan9\")\n",
    "         .config(\"spark.ui.showConsoleProgress\", \"false\")\n",
    "         .getOrCreate())\n",
    "spark.sparkContext.setLogLevel(\"ERROR\")\n",
    "\n",
    "import logging\n",
    "logging.getLogger(\"py4j\").setLevel(logging.ERROR)\n",
    "logging.getLogger(\"pyspark\").setLevel(logging.ERROR)\n",
    "\n"
   ]
  },
  {
   "cell_type": "code",
   "execution_count": 6,
   "id": "3c7da566-92cb-4b53-8230-29ceb698bbce",
   "metadata": {},
   "outputs": [
    {
     "name": "stdout",
     "output_type": "stream",
     "text": [
      "+-----+---+------+------+------+\n",
      "| Name|Age|Gender|Salary|DeptId|\n",
      "+-----+---+------+------+------+\n",
      "|James| 34|     M|  3000|     1|\n",
      "| Anna| 28|     F|  4100|     2|\n",
      "|  Lee| 23|     M|  2700|     1|\n",
      "+-----+---+------+------+------+\n",
      "\n"
     ]
    }
   ],
   "source": [
    "from pyspark.sql import SparkSession\n",
    "\n",
    "spark = SparkSession.builder.appName(\"SparkJupyterTest\").getOrCreate()\n",
    "\n",
    "data = [\n",
    "    ('James', 34, 'M', 3000, 1),\n",
    "    ('Anna', 28, 'F', 4100, 2),\n",
    "    ('Lee', 23, 'M', 2700, 1)\n",
    "]\n",
    "columns = ['Name', 'Age', 'Gender', 'Salary', 'DeptId']\n",
    "\n",
    "df = spark.createDataFrame(data, schema=columns)\n",
    "df.show()\n"
   ]
  },
  {
   "cell_type": "code",
   "execution_count": 7,
   "id": "d21fbd72-120c-47d4-8d80-ed3351f7b3f8",
   "metadata": {},
   "outputs": [
    {
     "name": "stdout",
     "output_type": "stream",
     "text": [
      "+-----+---+------+------+------+\n",
      "| Name|Age|Gender|Salary|DeptId|\n",
      "+-----+---+------+------+------+\n",
      "|James| 34|     M|  3000|     1|\n",
      "| Anna| 28|     F|  4100|     2|\n",
      "|  Lee| 23|     M|  2700|     1|\n",
      "+-----+---+------+------+------+\n",
      "\n",
      "+----+---+\n",
      "|Name|Age|\n",
      "+----+---+\n",
      "|Anna| 28|\n",
      "+----+---+\n",
      "\n",
      "+------------------+\n",
      "|       avg(Salary)|\n",
      "+------------------+\n",
      "|3266.6666666666665|\n",
      "+------------------+\n",
      "\n"
     ]
    }
   ],
   "source": [
    "# Latihan 1\n",
    "data = [\n",
    "    ('James', 34, 'M', 3000, 1),\n",
    "    ('Anna', 28, 'F', 4100, 2),\n",
    "    ('Lee', 23, 'M', 2700, 1)\n",
    "]\n",
    "columns = ['Name', 'Age', 'Gender', 'Salary', 'DeptId']\n",
    "df = spark.createDataFrame(data, schema=columns)\n",
    "df.createOrReplaceTempView('employees')\n",
    "spark.sql('SELECT * FROM employees').show()\n",
    "spark.sql('SELECT Name, Age FROM employees WHERE Salary > 3000').show()\n",
    "spark.sql('SELECT AVG(Salary) FROM employees').show()\n"
   ]
  },
  {
   "cell_type": "code",
   "execution_count": 8,
   "id": "2722f2fc-801e-49be-b322-3de77e40f68c",
   "metadata": {},
   "outputs": [
    {
     "name": "stdout",
     "output_type": "stream",
     "text": [
      "+------+-----------+---+\n",
      "|Gender|TotalSalary|Age|\n",
      "+------+-----------+---+\n",
      "|     M|       2700| 23|\n",
      "|     F|       4100| 28|\n",
      "|     M|       3000| 34|\n",
      "+------+-----------+---+\n",
      "\n"
     ]
    }
   ],
   "source": [
    "# Latihan 2\n",
    "spark.sql('''\n",
    "SELECT Gender, SUM(Salary) as TotalSalary, Age\n",
    "FROM employees\n",
    "GROUP BY Gender, Age\n",
    "ORDER BY Age\n",
    "''').show()\n"
   ]
  },
  {
   "cell_type": "code",
   "execution_count": 9,
   "id": "0a46a94a-8570-4348-8017-3468bb530d38",
   "metadata": {},
   "outputs": [
    {
     "name": "stdout",
     "output_type": "stream",
     "text": [
      "+------+---------+\n",
      "|DeptId|AvgSalary|\n",
      "+------+---------+\n",
      "|     1|   2850.0|\n",
      "|     2|   4100.0|\n",
      "+------+---------+\n",
      "\n"
     ]
    }
   ],
   "source": [
    "# Tugas 2.1\n",
    "spark.sql('''\n",
    "SELECT DeptId, AVG(Salary) AS AvgSalary\n",
    "FROM employees\n",
    "GROUP BY DeptId\n",
    "''').show()\n"
   ]
  },
  {
   "cell_type": "code",
   "execution_count": 10,
   "id": "c3c536cb-a0ca-47ef-bb5b-1430582bf32e",
   "metadata": {},
   "outputs": [
    {
     "name": "stdout",
     "output_type": "stream",
     "text": [
      "+------+---------+\n",
      "|Gender|AvgSalary|\n",
      "+------+---------+\n",
      "|     M|   2850.0|\n",
      "|     F|   4100.0|\n",
      "+------+---------+\n",
      "\n"
     ]
    }
   ],
   "source": [
    "# Tugas 2.2 \n",
    "spark.sql('''\n",
    "SELECT Gender, AVG(Salary) AS AvgSalary\n",
    "FROM employees\n",
    "GROUP BY Gender\n",
    "''').show()\n"
   ]
  },
  {
   "cell_type": "code",
   "execution_count": 13,
   "id": "df06d099-655b-42cb-bfa6-d7e49364f823",
   "metadata": {},
   "outputs": [
    {
     "name": "stdout",
     "output_type": "stream",
     "text": [
      "+-----+------+------+----+\n",
      "| Name|DeptId|Salary|Rank|\n",
      "+-----+------+------+----+\n",
      "|James|     1|  3000|   1|\n",
      "|  Lee|     1|  2700|   2|\n",
      "| Anna|     2|  4100|   1|\n",
      "+-----+------+------+----+\n",
      "\n"
     ]
    }
   ],
   "source": [
    "# Tugas 2.3\n",
    "spark.sql('''\n",
    "SELECT Name, DeptId, Salary,\n",
    "       RANK() OVER (PARTITION BY DeptId ORDER BY Salary DESC) AS Rank\n",
    "FROM employees\n",
    "''').show()\n"
   ]
  },
  {
   "cell_type": "code",
   "execution_count": 11,
   "id": "44978b8e-3290-44c6-a669-463e4118c926",
   "metadata": {},
   "outputs": [
    {
     "name": "stdout",
     "output_type": "stream",
     "text": [
      "+-----+---+------+----+\n",
      "| Name|Age|Salary|Rank|\n",
      "+-----+---+------+----+\n",
      "|  Lee| 23|  2700|   1|\n",
      "| Anna| 28|  4100|   1|\n",
      "|James| 34|  3000|   1|\n",
      "+-----+---+------+----+\n",
      "\n"
     ]
    }
   ],
   "source": [
    "# Latihan 3\n",
    "spark.sql('''\n",
    "SELECT Name, Age, Salary,\n",
    "       ROW_NUMBER() OVER (PARTITION BY Age ORDER BY Salary DESC) AS Rank\n",
    "FROM employees\n",
    "''').show()\n"
   ]
  },
  {
   "cell_type": "code",
   "execution_count": 12,
   "id": "20108725-ac2c-4ca4-bced-fded23278f20",
   "metadata": {},
   "outputs": [
    {
     "name": "stdout",
     "output_type": "stream",
     "text": [
      "+-----+---+---------+-----------+\n",
      "| Name|Age| DeptName|ProjectName|\n",
      "+-----+---+---------+-----------+\n",
      "|  Lee| 23|       HR|  Project A|\n",
      "|James| 34|       HR|  Project A|\n",
      "| Anna| 28|Marketing|  Project B|\n",
      "+-----+---+---------+-----------+\n",
      "\n"
     ]
    }
   ],
   "source": [
    "# Latihan 4\n",
    "from pyspark.sql import SparkSession\n",
    "spark = SparkSession.builder.appName('Pertemuan9').getOrCreate()\n",
    "\n",
    "# Data setup for complex SQL queries\n",
    "employees = spark.createDataFrame([\n",
    "    ('James', 34, 'M', 3000, 1),\n",
    "    ('Anna', 28, 'F', 4100, 2),\n",
    "    ('Lee', 23, 'M', 2700, 1)\n",
    "], ['Name', 'Age', 'Gender', 'Salary', 'DeptId'])\n",
    "departments = spark.createDataFrame([\n",
    "    (1, 'HR'),\n",
    "    (2, 'Marketing')\n",
    "], ['DeptId', 'DeptName'])\n",
    "projects = spark.createDataFrame([\n",
    "    (1, 'Project A'),\n",
    "    (2, 'Project B')\n",
    "], ['DeptId', 'ProjectName'])\n",
    "employees.createOrReplaceTempView('employees')\n",
    "departments.createOrReplaceTempView('departments')\n",
    "projects.createOrReplaceTempView('projects')\n",
    "\n",
    "# Complex SQL query involving multiple joins and subqueries\n",
    "spark.sql('''\n",
    "SELECT e.Name, e.Age, d.DeptName, p.ProjectName\n",
    "FROM employees e\n",
    "JOIN departments d ON e.DeptId = d.DeptId\n",
    "JOIN projects p ON e.DeptId = p.DeptId\n",
    "''').show()\n"
   ]
  },
  {
   "cell_type": "code",
   "execution_count": 13,
   "id": "7a8eb2bc-4192-4ef3-ab97-16da9e29f428",
   "metadata": {},
   "outputs": [
    {
     "name": "stdout",
     "output_type": "stream",
     "text": [
      "+-----+---------+------+-------------+----------+\n",
      "| Name| DeptName|Salary|AvgDeptSalary|RankInDept|\n",
      "+-----+---------+------+-------------+----------+\n",
      "|James|       HR|  3000|       2850.0|         1|\n",
      "|  Lee|       HR|  2700|       2850.0|         2|\n",
      "| Anna|Marketing|  4100|       4100.0|         1|\n",
      "+-----+---------+------+-------------+----------+\n",
      "\n"
     ]
    }
   ],
   "source": [
    "# Latihan 5(Mandiri)\n",
    "spark.sql('''\n",
    "SELECT e.Name, d.DeptName, e.Salary,\n",
    "       AVG(e.Salary) OVER (PARTITION BY e.DeptId) AS AvgDeptSalary,\n",
    "       RANK() OVER (PARTITION BY e.DeptId ORDER BY e.Salary DESC) AS RankInDept\n",
    "FROM employees e\n",
    "JOIN departments d ON e.DeptId = d.DeptId\n",
    "''').show()\n"
   ]
  },
  {
   "cell_type": "code",
   "execution_count": 14,
   "id": "137969eb-41ab-41dc-960d-9655693064f9",
   "metadata": {},
   "outputs": [
    {
     "name": "stdout",
     "output_type": "stream",
     "text": [
      "+-----+---+---------+------+-----------+\n",
      "| Name|Age| DeptName|Salary|SalaryTrend|\n",
      "+-----+---+---------+------+-----------+\n",
      "|  Lee| 23|       HR|  2700|     2700.0|\n",
      "|James| 34|       HR|  3000|     2850.0|\n",
      "| Anna| 28|Marketing|  4100|     4100.0|\n",
      "+-----+---+---------+------+-----------+\n",
      "\n"
     ]
    }
   ],
   "source": [
    "# Latihan 6(Mandiri)\n",
    "spark.sql('''\n",
    "SELECT e.Name, e.Age, d.DeptName, e.Salary,\n",
    "       AVG(e.Salary) OVER (PARTITION BY d.DeptName ORDER BY e.Age ROWS BETWEEN UNBOUNDED PRECEDING AND CURRENT ROW) AS SalaryTrend\n",
    "FROM employees e\n",
    "JOIN departments d ON e.DeptId = d.DeptId\n",
    "ORDER BY d.DeptName, e.Age\n",
    "''').show()\n"
   ]
  },
  {
   "cell_type": "code",
   "execution_count": 16,
   "id": "da5bfb22-eff2-41b6-8775-8cadef7d65f9",
   "metadata": {
    "scrolled": true
   },
   "outputs": [
    {
     "name": "stderr",
     "output_type": "stream",
     "text": [
      "                                                                                "
     ]
    },
    {
     "data": {
      "image/png": "[encoded data removed]",
      "text/plain": [
       "<Figure size 1000x500 with 1 Axes>"
      ]
     },
     "metadata": {},
     "output_type": "display_data"
    }
   ],
   "source": [
    "\n",
    "import matplotlib.pyplot as plt\n",
    "import pandas as pd\n",
    "\n",
    "# Advanced data analysis with visualization\n",
    "salary_trends = spark.sql('''\n",
    "SELECT Age, AVG(Salary) AS AverageSalary\n",
    "FROM employees\n",
    "GROUP BY Age\n",
    "ORDER BY Age\n",
    "''').toPandas()\n",
    "\n",
    "# Visualization of salary trends\n",
    "plt.figure(figsize=(10, 5))\n",
    "plt.plot(salary_trends['Age'], salary_trends['AverageSalary'], marker='o')\n",
    "plt.xlabel('Age')\n",
    "plt.ylabel('Average Salary')\n",
    "plt.title('Salary Trends by Age')\n",
    "plt.grid(True)\n",
    "plt.show()\n"
   ]
  },
  {
   "cell_type": "code",
   "execution_count": null,
   "id": "538b7ebe-3bfb-48f8-b646-a73b4c97fe2b",
   "metadata": {},
   "outputs": [],
   "source": []
  }
 ],
 "metadata": {
  "kernelspec": {
   "display_name": "PySpark (spark310)",
   "language": "python",
   "name": "spark310"
  },
  "language_info": {
   "codemirror_mode": {
    "name": "ipython",
    "version": 3
   },
   "file_extension": ".py",
   "mimetype": "text/x-python",
   "name": "python",
   "nbconvert_exporter": "python",
   "pygments_lexer": "ipython3",
   "version": "3.10.19"
  }
 },
 "nbformat": 4,
 "nbformat_minor": 5
}
