{
  "nbformat": 4,
  "nbformat_minor": 0,
  "metadata": {
    "colab": {
      "provenance": []
    },
    "kernelspec": {
      "name": "python3",
      "display_name": "Python 3"
    },
    "language_info": {
      "name": "python"
    }
  },
  "cells": [
    {
      "cell_type": "code",
      "execution_count": 1,
      "metadata": {
        "colab": {
          "base_uri": "https://localhost:8080/"
        },
        "id": "cjFWdpuspg98",
        "outputId": "9a74ec86-15f3-4a59-a5c2-2faf8079cdd1"
      },
      "outputs": [
        {
          "output_type": "stream",
          "name": "stdout",
          "text": [
            "Hasil Map: [('saya', 1), ('membeli', 1), ('minuman', 1), ('matcha', 1), ('latte', 1), ('di', 1), ('toko', 1), ('depan', 1), ('kampus', 1)]\n",
            "\n",
            "Hasil Reduce (Word Count):\n",
            "saya: 1\n",
            "membeli: 1\n",
            "minuman: 1\n",
            "matcha: 1\n",
            "latte: 1\n",
            "di: 1\n",
            "toko: 1\n",
            "depan: 1\n",
            "kampus: 1\n"
          ]
        }
      ],
      "source": [
        "from collections import defaultdict\n",
        "\n",
        "# Map Function\n",
        "def map_function(text):\n",
        "    for word in text.split():\n",
        "        yield (word, 1)\n",
        "\n",
        "# Reduce Function\n",
        "def reduce_function(pairs):\n",
        "    result = defaultdict(int)\n",
        "    for word, count in pairs:\n",
        "        result[word] += count\n",
        "    return result\n",
        "\n",
        "# Dataset teks\n",
        "text = \"saya membeli minuman matcha latte di toko depan kampus\"\n",
        "\n",
        "# Jalankan Map\n",
        "mapped = list(map_function(text))\n",
        "\n",
        "# Jalankan Reduce\n",
        "reduced = reduce_function(mapped)\n",
        "\n",
        "# Tampilkan hasil\n",
        "print(\"Hasil Map:\", mapped)\n",
        "print(\"\\nHasil Reduce (Word Count):\")\n",
        "for word, count in reduced.items():\n",
        "    print(f\"{word}: {count}\")\n"
      ]
    },
    {
      "cell_type": "code",
      "source": [],
      "metadata": {
        "id": "Lr5O_qU_pkiv"
      },
      "execution_count": null,
      "outputs": []
    }
  ]
}