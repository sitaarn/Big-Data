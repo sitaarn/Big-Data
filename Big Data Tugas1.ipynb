{
  "nbformat": 4,
  "nbformat_minor": 0,
  "metadata": {
    "colab": {
      "provenance": []
    },
    "kernelspec": {
      "name": "python3",
      "display_name": "Python 3"
    },
    "language_info": {
      "name": "python"
    }
  },
  "cells": [
    {
      "cell_type": "code",
      "execution_count": 2,
      "metadata": {
        "colab": {
          "base_uri": "https://localhost:8080/"
        },
        "id": "q0WvC7ikBkmY",
        "outputId": "fa5002f7-e514-4513-f296-380fe92c32bf"
      },
      "outputs": [
        {
          "output_type": "stream",
          "name": "stdout",
          "text": [
            "+-----+----+----------+--------+---------+\n",
            "| Nama|Usia| Pekerjaan|    Hobi|   Gender|\n",
            "+-----+----+----------+--------+---------+\n",
            "|  Ali|  34|    Dokter| Membaca|Laki-laki|\n",
            "| Budi|  23|      Guru|Olahraga|Laki-laki|\n",
            "|Citra|  29|  Insinyur|   Musik|Perempuan|\n",
            "| Dina|  45|   Perawat|Berkebun|Perempuan|\n",
            "| Dewi|  31|Programmer|  Gaming|Perempuan|\n",
            "|  Gio|  28|  Designer| Melukis|Laki-laki|\n",
            "+-----+----+----------+--------+---------+\n",
            "\n"
          ]
        }
      ],
      "source": [
        "from pyspark.sql import SparkSession\n",
        "\n",
        "# Memulai Spark session\n",
        "spark = SparkSession.builder.appName(\"BigDataPractice\").getOrCreate()\n",
        "\n",
        "# Membuat DataFrame sederhana\n",
        "data = [\n",
        "    (\"Ali\", 34, \"Dokter\", \"Membaca\", \"Laki-laki\"),\n",
        "    (\"Budi\", 23, \"Guru\", \"Olahraga\", \"Laki-laki\"),\n",
        "    (\"Citra\", 29, \"Insinyur\", \"Musik\", \"Perempuan\"),\n",
        "    (\"Dina\", 45, \"Perawat\", \"Berkebun\", \"Perempuan\"),\n",
        "    (\"Dewi\", 31, \"Programmer\", \"Gaming\", \"Perempuan\"),\n",
        "    (\"Gio\", 28, \"Designer\", \"Melukis\", \"Laki-laki\")\n",
        "]\n",
        "columns = [\"Nama\", \"Usia\", \"Pekerjaan\", \"Hobi\", \"Gender\"]\n",
        "df = spark.createDataFrame(data, columns)\n",
        "\n",
        "# Menampilkan DataFrame\n",
        "df.show()\n"
      ]
    },
    {
      "cell_type": "code",
      "source": [
        "from pyspark.sql import SparkSession\n",
        "from pyspark.sql.functions import avg\n",
        "\n",
        "# Memulai Spark session\n",
        "spark = SparkSession.builder.appName(\"BigDataPractice\").getOrCreate()\n",
        "\n",
        "# Data dalam bentuk dictionary\n",
        "data = {\n",
        "    \"Nama\": [\"Ali\", \"Budi\", \"Citra\", \"Dina\", \"Dewi\", \"Gio\"],\n",
        "    \"Usia\": [34, 23, 29, 45, 31, 28],\n",
        "    \"Pekerjaan\": [\"Dokter\", \"Guru\", \"Insinyur\", \"Perawat\", \"Programmer\", \"Designer\"],\n",
        "    \"Hobi\": [\"Membaca\", \"Olahraga\", \"Musik\", \"Berkebun\", \"Gaming\", \"Melukis\"],\n",
        "    \"Gender\": [\"Laki-laki\", \"Laki-laki\", \"Perempuan\", \"Perempuan\", \"Perempuan\", \"Laki-laki\"],\n",
        "    \"Gaji\": [15000000, 8000000, 12000000, 10000000, 13000000, 9000000]\n",
        "}\n",
        "\n",
        "# Konversi ke list of tuples\n",
        "rows = list(zip(\n",
        "    data[\"Nama\"], data[\"Usia\"], data[\"Pekerjaan\"],\n",
        "    data[\"Hobi\"], data[\"Gender\"], data[\"Gaji\"]\n",
        "))\n",
        "\n",
        "# Nama kolom\n",
        "columns = [\"Nama\", \"Usia\", \"Pekerjaan\", \"Hobi\", \"Gender\", \"Gaji\"]\n",
        "\n",
        "# Membuat DataFrame\n",
        "df = spark.createDataFrame(rows, columns)\n",
        "\n",
        "# Menampilkan DataFrame lengkap\n",
        "print(\"=== Data Lengkap ===\")\n",
        "df.show()\n",
        "\n",
        "# Filtering data: berdasarkan usia > 30\n",
        "print(\"=== Data Berdasarkan Usia > 30 ===\")\n",
        "df_filtered = df.filter(df['Usia'] > 30)\n",
        "df_filtered.show()\n",
        "\n",
        "# Menghitung rata-rata usia\n",
        "print(\"=== Rata-rata Usia ===\")\n",
        "df.groupBy().agg(avg(\"Usia\").alias(\"Rata-rata Usia\")).show()\n",
        "\n",
        "# Mengurutkan data berdasarkan usia\n",
        "print(\"=== Data Diurutkan Berdasarkan Usia (Tertinggi ke Terendah) ===\")\n",
        "df_sorted = df.orderBy(\"Usia\", ascending=False)\n",
        "df_sorted.show()\n",
        "\n",
        "# Mengurutkan data berdasarkan alphabet A-Z\n",
        "print(\"=== Data Diurutkan Berdasarkan Alphabet ===\")\n",
        "df_sorted_name = df.orderBy(\"Nama\", ascending=True)\n",
        "df_sorted_name.show()\n"
      ],
      "metadata": {
        "colab": {
          "base_uri": "https://localhost:8080/"
        },
        "id": "PQ7sOhWIE3-x",
        "outputId": "ba03751f-4cd2-441a-dc68-bebfd029f62b"
      },
      "execution_count": 7,
      "outputs": [
        {
          "output_type": "stream",
          "name": "stdout",
          "text": [
            "=== Data Lengkap ===\n",
            "+-----+----+----------+--------+---------+--------+\n",
            "| Nama|Usia| Pekerjaan|    Hobi|   Gender|    Gaji|\n",
            "+-----+----+----------+--------+---------+--------+\n",
            "|  Ali|  34|    Dokter| Membaca|Laki-laki|15000000|\n",
            "| Budi|  23|      Guru|Olahraga|Laki-laki| 8000000|\n",
            "|Citra|  29|  Insinyur|   Musik|Perempuan|12000000|\n",
            "| Dina|  45|   Perawat|Berkebun|Perempuan|10000000|\n",
            "| Dewi|  31|Programmer|  Gaming|Perempuan|13000000|\n",
            "|  Gio|  28|  Designer| Melukis|Laki-laki| 9000000|\n",
            "+-----+----+----------+--------+---------+--------+\n",
            "\n",
            "=== Data Berdasarkan Usia > 30 ===\n",
            "+----+----+----------+--------+---------+--------+\n",
            "|Nama|Usia| Pekerjaan|    Hobi|   Gender|    Gaji|\n",
            "+----+----+----------+--------+---------+--------+\n",
            "| Ali|  34|    Dokter| Membaca|Laki-laki|15000000|\n",
            "|Dina|  45|   Perawat|Berkebun|Perempuan|10000000|\n",
            "|Dewi|  31|Programmer|  Gaming|Perempuan|13000000|\n",
            "+----+----+----------+--------+---------+--------+\n",
            "\n",
            "=== Rata-rata Usia ===\n",
            "+------------------+\n",
            "|    Rata-rata Usia|\n",
            "+------------------+\n",
            "|31.666666666666668|\n",
            "+------------------+\n",
            "\n",
            "=== Data Diurutkan Berdasarkan Usia (Tertinggi ke Terendah) ===\n",
            "+-----+----+----------+--------+---------+--------+\n",
            "| Nama|Usia| Pekerjaan|    Hobi|   Gender|    Gaji|\n",
            "+-----+----+----------+--------+---------+--------+\n",
            "| Dina|  45|   Perawat|Berkebun|Perempuan|10000000|\n",
            "|  Ali|  34|    Dokter| Membaca|Laki-laki|15000000|\n",
            "| Dewi|  31|Programmer|  Gaming|Perempuan|13000000|\n",
            "|Citra|  29|  Insinyur|   Musik|Perempuan|12000000|\n",
            "|  Gio|  28|  Designer| Melukis|Laki-laki| 9000000|\n",
            "| Budi|  23|      Guru|Olahraga|Laki-laki| 8000000|\n",
            "+-----+----+----------+--------+---------+--------+\n",
            "\n",
            "=== Data Diurutkan Berdasarkan Alphabet ===\n",
            "+-----+----+----------+--------+---------+--------+\n",
            "| Nama|Usia| Pekerjaan|    Hobi|   Gender|    Gaji|\n",
            "+-----+----+----------+--------+---------+--------+\n",
            "|  Ali|  34|    Dokter| Membaca|Laki-laki|15000000|\n",
            "| Budi|  23|      Guru|Olahraga|Laki-laki| 8000000|\n",
            "|Citra|  29|  Insinyur|   Musik|Perempuan|12000000|\n",
            "| Dewi|  31|Programmer|  Gaming|Perempuan|13000000|\n",
            "| Dina|  45|   Perawat|Berkebun|Perempuan|10000000|\n",
            "|  Gio|  28|  Designer| Melukis|Laki-laki| 9000000|\n",
            "+-----+----+----------+--------+---------+--------+\n",
            "\n"
          ]
        }
      ]
    },
    {
      "cell_type": "code",
      "source": [
        "import pandas as pd\n",
        "\n",
        "# Data yang sama seperti sebelumnya\n",
        "data = {\n",
        "    \"Nama\": [\"Ali\", \"Budi\", \"Citra\", \"Dina\", \"Dewi\", \"Gio\"],\n",
        "    \"Usia\": [34, 23, 29, 45, 31, 28],\n",
        "    \"Pekerjaan\": [\"Dokter\", \"Guru\", \"Insinyur\", \"Perawat\", \"Programmer\", \"Designer\"],\n",
        "    \"Hobi\": [\"Membaca\", \"Olahraga\", \"Musik\", \"Berkebun\", \"Gaming\", \"Melukis\"],\n",
        "    \"Gender\": [\"Laki-laki\", \"Laki-laki\", \"Perempuan\", \"Perempuan\", \"Perempuan\", \"Laki-laki\"],\n",
        "    \"Gaji\": [15000000, 8000000, 12000000, 10000000, 13000000, 9000000]\n",
        "}\n",
        "\n",
        "# Membuat DataFrame Pandas\n",
        "df_pandas = pd.DataFrame(data)\n",
        "\n",
        "# Tambahkan kolom baru: \"Status Usia\"\n",
        "# Misalnya: Usia > 30 dianggap \"Senior\", selain itu \"Menengah\"\n",
        "df_pandas[\"Status Usia\"] = df_pandas[\"Usia\"].apply(lambda x: \"Senior\" if x > 30 else \"Menengah\")\n",
        "\n",
        "# ✅ Filtering data: hanya yang usianya lebih dari 30\n",
        "df_filtered = df_pandas[df_pandas[\"Usia\"] > 30]\n",
        "\n",
        "# Menampilkan hasil\n",
        "print(\"=== DataFrame Lengkap dengan Kolom Tambahan ===\")\n",
        "print(df_pandas)\n",
        "\n",
        "print(\"\\n=== Data yang Difilter Berdasarkan Usia > 30 ===\")\n",
        "print(df_filtered)\n"
      ],
      "metadata": {
        "colab": {
          "base_uri": "https://localhost:8080/"
        },
        "id": "Xz1ZuzM0F6ED",
        "outputId": "69558f12-0a49-4519-eb57-9a6aed140942"
      },
      "execution_count": 9,
      "outputs": [
        {
          "output_type": "stream",
          "name": "stdout",
          "text": [
            "=== DataFrame Lengkap dengan Kolom Tambahan ===\n",
            "    Nama  Usia   Pekerjaan      Hobi     Gender      Gaji Status Usia\n",
            "0    Ali    34      Dokter   Membaca  Laki-laki  15000000      Senior\n",
            "1   Budi    23        Guru  Olahraga  Laki-laki   8000000    Menengah\n",
            "2  Citra    29    Insinyur     Musik  Perempuan  12000000    Menengah\n",
            "3   Dina    45     Perawat  Berkebun  Perempuan  10000000      Senior\n",
            "4   Dewi    31  Programmer    Gaming  Perempuan  13000000      Senior\n",
            "5    Gio    28    Designer   Melukis  Laki-laki   9000000    Menengah\n",
            "\n",
            "=== Data yang Difilter Berdasarkan Usia > 30 ===\n",
            "   Nama  Usia   Pekerjaan      Hobi     Gender      Gaji Status Usia\n",
            "0   Ali    34      Dokter   Membaca  Laki-laki  15000000      Senior\n",
            "3  Dina    45     Perawat  Berkebun  Perempuan  10000000      Senior\n",
            "4  Dewi    31  Programmer    Gaming  Perempuan  13000000      Senior\n"
          ]
        }
      ]
    },
    {
      "cell_type": "code",
      "source": [
        "import pandas as pd\n",
        "import matplotlib.pyplot as plt\n",
        "\n",
        "# Data pertama: Nama dan Usia\n",
        "data1 = {\n",
        "    \"Nama\": [\"Ali\", \"Budi\", \"Citra\", \"Dina\", \"Dewi\", \"Gio\"],\n",
        "    \"Usia\": [34, 23, 29, 45, 31, 28]\n",
        "}\n",
        "df1 = pd.DataFrame(data1)\n",
        "\n",
        "# Data kedua: Nama, Pekerjaan, Hobi, Gender, Gaji\n",
        "data2 = {\n",
        "    \"Nama\": [\"Ali\", \"Budi\", \"Citra\", \"Dina\", \"Dewi\", \"Gio\"],\n",
        "    \"Pekerjaan\": [\"Dokter\", \"Guru\", \"Insinyur\", \"Perawat\", \"Programmer\", \"Designer\"],\n",
        "    \"Hobi\": [\"Membaca\", \"Olahraga\", \"Musik\", \"Berkebun\", \"Gaming\", \"Melukis\"],\n",
        "    \"Gender\": [\"Laki-laki\", \"Laki-laki\", \"Perempuan\", \"Perempuan\", \"Perempuan\", \"Laki-laki\"],\n",
        "    \"Gaji\": [15000000, 8000000, 12000000, 10000000, 13000000, 9000000]\n",
        "}\n",
        "df2 = pd.DataFrame(data2)\n",
        "\n",
        "# Join kedua DataFrame berdasarkan kolom \"Nama\"\n",
        "df_joined = pd.merge(df1, df2, on=\"Nama\")\n",
        "\n",
        "# Menampilkan hasil gabungan\n",
        "print(\"=== DataFrame Gabungan ===\")\n",
        "print(df_joined)\n",
        "\n",
        "# Statistik deskriptif untuk kolom numerik\n",
        "print(\"\\n=== Statistik Deskriptif ===\")\n",
        "print(df_joined.describe())\n",
        "\n",
        "# Visualisasi: Bar chart usia per orang\n",
        "plt.figure(figsize=(8, 5))\n",
        "plt.bar(df_joined[\"Nama\"], df_joined[\"Usia\"], color=\"skyblue\")\n",
        "plt.title(\"Visualisasi Usia per Nama\")\n",
        "plt.xlabel(\"Nama\")\n",
        "plt.ylabel(\"Usia\")\n",
        "plt.grid(axis='y', linestyle='--', alpha=0.7)\n",
        "plt.tight_layout()\n",
        "plt.show()\n",
        "\n",
        "# Visualisasi: Pie chart komposisi gender\n",
        "plt.figure(figsize=(5, 5))\n",
        "df_joined[\"Gender\"].value_counts().plot(kind='pie', autopct='%1.1f%%', startangle=90, colors=[\"lightcoral\", \"lightblue\"])\n",
        "plt.title(\"Distribusi Gender\")\n",
        "plt.ylabel(\"\")\n",
        "plt.tight_layout()\n",
        "plt.show()\n"
      ],
      "metadata": {
        "colab": {
          "base_uri": "https://localhost:8080/",
          "height": 1000
        },
        "id": "LpWgrh6zIJhc",
        "outputId": "5a0485ef-daae-430c-b7aa-06433301d8bb"
      },
      "execution_count": 10,
      "outputs": [
        {
          "output_type": "stream",
          "name": "stdout",
          "text": [
            "=== DataFrame Gabungan ===\n",
            "    Nama  Usia   Pekerjaan      Hobi     Gender      Gaji\n",
            "0    Ali    34      Dokter   Membaca  Laki-laki  15000000\n",
            "1   Budi    23        Guru  Olahraga  Laki-laki   8000000\n",
            "2  Citra    29    Insinyur     Musik  Perempuan  12000000\n",
            "3   Dina    45     Perawat  Berkebun  Perempuan  10000000\n",
            "4   Dewi    31  Programmer    Gaming  Perempuan  13000000\n",
            "5    Gio    28    Designer   Melukis  Laki-laki   9000000\n",
            "\n",
            "=== Statistik Deskriptif ===\n",
            "            Usia          Gaji\n",
            "count   6.000000  6.000000e+00\n",
            "mean   31.666667  1.116667e+07\n",
            "std     7.474401  2.639444e+06\n",
            "min    23.000000  8.000000e+06\n",
            "25%    28.250000  9.250000e+06\n",
            "50%    30.000000  1.100000e+07\n",
            "75%    33.250000  1.275000e+07\n",
            "max    45.000000  1.500000e+07\n"
          ]
        },
        {
          "output_type": "display_data",
          "data": {
            "text/plain": [
              "<Figure size 800x500 with 1 Axes>"
            ],
            "image/png": "[encoded data removed]"
          },
          "metadata": {}
        },
        {
          "output_type": "display_data",
          "data": {
            "text/plain": [
              "<Figure size 500x500 with 1 Axes>"
            ],
            "image/png": "[encoded data removed]"
          },
          "metadata": {}
        }
      ]
    },
    {
      "cell_type": "code",
      "source": [
        "# Mengonversi DataFrame dari PySpark ke Pandas\n",
        "df_pandas_from_spark = df.toPandas()\n",
        "\n",
        "# Mengonversi DataFrame dari Pandas ke PySpark\n",
        "df_spark_from_pandas = spark.createDataFrame(df_pandas)\n",
        "\n",
        "# Menampilkan DataFrame hasil konversi\n",
        "df_pandas_from_spark, df_spark_from_pandas.show()\n",
        "\n",
        "df.groupBy().agg(avg(\"Usia\")).show()"
      ],
      "metadata": {
        "colab": {
          "base_uri": "https://localhost:8080/"
        },
        "id": "BJaA5p-9I41J",
        "outputId": "adafe637-004c-4870-ab4f-19ce32d7d002"
      },
      "execution_count": 11,
      "outputs": [
        {
          "output_type": "stream",
          "name": "stdout",
          "text": [
            "+-----+----+----------+--------+---------+--------+-----------+\n",
            "| Nama|Usia| Pekerjaan|    Hobi|   Gender|    Gaji|Status Usia|\n",
            "+-----+----+----------+--------+---------+--------+-----------+\n",
            "|  Ali|  34|    Dokter| Membaca|Laki-laki|15000000|     Senior|\n",
            "| Budi|  23|      Guru|Olahraga|Laki-laki| 8000000|   Menengah|\n",
            "|Citra|  29|  Insinyur|   Musik|Perempuan|12000000|   Menengah|\n",
            "| Dina|  45|   Perawat|Berkebun|Perempuan|10000000|     Senior|\n",
            "| Dewi|  31|Programmer|  Gaming|Perempuan|13000000|     Senior|\n",
            "|  Gio|  28|  Designer| Melukis|Laki-laki| 9000000|   Menengah|\n",
            "+-----+----+----------+--------+---------+--------+-----------+\n",
            "\n",
            "+------------------+\n",
            "|         avg(Usia)|\n",
            "+------------------+\n",
            "|31.666666666666668|\n",
            "+------------------+\n",
            "\n"
          ]
        }
      ]
    },
    {
      "cell_type": "code",
      "source": [
        "from pyspark.sql import SparkSession\n",
        "import pandas as pd\n",
        "from pyspark.sql.functions import max\n",
        "\n",
        "# Memulai Spark session\n",
        "spark = SparkSession.builder.appName(\"Tugas6GabungMaxUsia\").getOrCreate()\n",
        "\n",
        "# Data PySpark\n",
        "data_spark = [\n",
        "    (\"Ali\", 34), (\"Budi\", 23), (\"Citra\", 29)\n",
        "]\n",
        "columns_spark = [\"Nama\", \"Usia\"]\n",
        "df_spark = spark.createDataFrame(data_spark, columns_spark)\n",
        "\n",
        "# Data Pandas\n",
        "data_pandas = {\n",
        "    \"Nama\": [\"Dina\", \"Dewi\", \"Gio\"],\n",
        "    \"Usia\": [45, 31, 28]\n",
        "}\n",
        "df_pandas = pd.DataFrame(data_pandas)\n",
        "\n",
        "# Konversi Pandas → PySpark\n",
        "df_spark_from_pandas = spark.createDataFrame(df_pandas)\n",
        "\n",
        "# Gabungkan kedua DataFrame PySpark\n",
        "df_combined = df_spark.unionByName(df_spark_from_pandas)\n",
        "\n",
        "# Menampilkan hasil gabungan\n",
        "print(\"=== Data Gabungan (PySpark + Pandas) ===\")\n",
        "df_combined.show()\n",
        "\n",
        "# Menghitung nilai maksimum usia\n",
        "print(\"=== Nilai Maksimum Usia ===\")\n",
        "df_combined.agg(max(\"Usia\").alias(\"Usia Maksimum\")).show()\n"
      ],
      "metadata": {
        "colab": {
          "base_uri": "https://localhost:8080/"
        },
        "id": "IbaYRNwHJlpm",
        "outputId": "1fe7408d-4da9-4ec8-9603-39d08c05e3ff"
      },
      "execution_count": 12,
      "outputs": [
        {
          "output_type": "stream",
          "name": "stdout",
          "text": [
            "=== Data Gabungan (PySpark + Pandas) ===\n",
            "+-----+----+\n",
            "| Nama|Usia|\n",
            "+-----+----+\n",
            "|  Ali|  34|\n",
            "| Budi|  23|\n",
            "|Citra|  29|\n",
            "| Dina|  45|\n",
            "| Dewi|  31|\n",
            "|  Gio|  28|\n",
            "+-----+----+\n",
            "\n",
            "=== Nilai Maksimum Usia ===\n",
            "+-------------+\n",
            "|Usia Maksimum|\n",
            "+-------------+\n",
            "|           45|\n",
            "+-------------+\n",
            "\n"
          ]
        }
      ]
    }
  ]
}